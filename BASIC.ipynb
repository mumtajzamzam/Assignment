{
 "cells": [
  {
   "cell_type": "markdown",
   "id": "d672f910-136d-4a08-874e-8db9b5bd30a3",
   "metadata": {},
   "source": [
    "## operation on List"
   ]
  },
  {
   "cell_type": "markdown",
   "id": "f1132c45-a3b4-49ef-9c14-78c4cc3b3177",
   "metadata": {},
   "source": [
    "Create a list"
   ]
  },
  {
   "cell_type": "code",
   "execution_count": 1,
   "id": "ab71acd1-8346-4bae-af7b-c10dd6ce806e",
   "metadata": {},
   "outputs": [
    {
     "name": "stdout",
     "output_type": "stream",
     "text": [
      "created List: [10, 20, 30, 40]\n"
     ]
    }
   ],
   "source": [
    "my_list = [10,20,30,40]\n",
    "print(\"created List:\",my_list)"
   ]
  },
  {
   "cell_type": "markdown",
   "id": "319a90d8-191d-45a0-9d61-b0741080a4c6",
   "metadata": {},
   "source": [
    "Append an element "
   ]
  },
  {
   "cell_type": "code",
   "execution_count": 2,
   "id": "19bfde73-f90b-441d-a0a9-a3e3a09f2d2f",
   "metadata": {},
   "outputs": [
    {
     "name": "stdout",
     "output_type": "stream",
     "text": [
      "after Append: [10, 20, 30, 40]\n"
     ]
    }
   ],
   "source": [
    "my_list =[10,20,30,40]\n",
    "print(\"after Append:\",my_list)"
   ]
  },
  {
   "cell_type": "markdown",
   "id": "f63821ca-0fe9-469b-8051-d26e0f42e90f",
   "metadata": {},
   "source": [
    "Insert element "
   ]
  },
  {
   "cell_type": "code",
   "execution_count": 3,
   "id": "00a970f2-0fe0-4219-bfdf-7730101bd4f9",
   "metadata": {},
   "outputs": [
    {
     "name": "stdout",
     "output_type": "stream",
     "text": [
      "after Remove: [10, 20, 25, 30, 40]\n"
     ]
    }
   ],
   "source": [
    "my_list=[10,20,30,40]\n",
    "my_list.insert(2,25)\n",
    "print(\"after Remove:\",my_list)"
   ]
  },
  {
   "cell_type": "markdown",
   "id": "7a23fbba-cbe4-4c05-89c8-dafe1f345f9b",
   "metadata": {},
   "source": [
    "Reverse the list "
   ]
  },
  {
   "cell_type": "code",
   "execution_count": 4,
   "id": "12c35369-8c44-43ea-ac49-ade2dfce78ac",
   "metadata": {},
   "outputs": [
    {
     "name": "stdout",
     "output_type": "stream",
     "text": [
      "After the reverse: [40, 30, 20, 10]\n"
     ]
    }
   ],
   "source": [
    "my_list=[10,20,30,40]\n",
    "my_list.reverse()\n",
    "print(\"After the reverse:\",my_list)\n"
   ]
  },
  {
   "cell_type": "markdown",
   "id": "d248a4dc-b997-485a-8fd9-37c39e3fd841",
   "metadata": {},
   "source": [
    "## operation on tuple"
   ]
  },
  {
   "cell_type": "markdown",
   "id": "fcc7ea0c-3807-4d8f-8f0b-759745ac0ead",
   "metadata": {},
   "source": [
    "create the tuple"
   ]
  },
  {
   "cell_type": "code",
   "execution_count": 5,
   "id": "45d369b6-c20f-492e-bf1e-220259a0e5b7",
   "metadata": {},
   "outputs": [
    {
     "name": "stdout",
     "output_type": "stream",
     "text": [
      "Created Tuple: (1, 2, 3, 4, 5)\n"
     ]
    }
   ],
   "source": [
    "my_tuple=(1,2,3,4,5)\n",
    "print(\"Created Tuple:\",my_tuple)"
   ]
  },
  {
   "cell_type": "markdown",
   "id": "552cf6c2-99d5-4555-8410-63fd51307c47",
   "metadata": {},
   "source": [
    "Indexing"
   ]
  },
  {
   "cell_type": "code",
   "execution_count": 6,
   "id": "a99178a3-42a5-4316-93ae-fd004bc42854",
   "metadata": {},
   "outputs": [
    {
     "name": "stdout",
     "output_type": "stream",
     "text": [
      "Element at index 2: 3\n"
     ]
    }
   ],
   "source": [
    "my_tuple=(1,2,3,4,5)\n",
    "print(\"Element at index 2:\",my_tuple[2])"
   ]
  },
  {
   "cell_type": "markdown",
   "id": "54df33bd-ac33-42da-84ed-58a8f84236fe",
   "metadata": {},
   "source": [
    "Slicing"
   ]
  },
  {
   "cell_type": "code",
   "execution_count": 7,
   "id": "04944696-838e-4f02-be33-59810e32a8ce",
   "metadata": {},
   "outputs": [
    {
     "name": "stdout",
     "output_type": "stream",
     "text": [
      "slice(1:4): (2, 3, 4)\n"
     ]
    }
   ],
   "source": [
    "my_tuple=(1,2,3,4,5)\n",
    "print(\"slice(1:4):\",my_tuple[1:4])\n",
    "      "
   ]
  },
  {
   "cell_type": "markdown",
   "id": "122355e0-fff7-4687-b5de-75f9f4bdc3bf",
   "metadata": {},
   "source": [
    "count"
   ]
  },
  {
   "cell_type": "code",
   "execution_count": 8,
   "id": "62f98c1e-d230-49d7-972b-856ef829930a",
   "metadata": {},
   "outputs": [
    {
     "name": "stdout",
     "output_type": "stream",
     "text": [
      "count of 3: 1\n"
     ]
    }
   ],
   "source": [
    "my_tuple=(1,2,3,4,5)\n",
    "print(\"count of 3:\",my_tuple.count(3))"
   ]
  },
  {
   "cell_type": "markdown",
   "id": "31d0a956-27ac-40f9-92d7-ae4e143e726c",
   "metadata": {},
   "source": [
    "length"
   ]
  },
  {
   "cell_type": "code",
   "execution_count": 9,
   "id": "0d7a6cf5-260e-426c-a7bb-c8b6de42eff5",
   "metadata": {},
   "outputs": [
    {
     "name": "stdout",
     "output_type": "stream",
     "text": [
      "length of tuple: 5\n"
     ]
    }
   ],
   "source": [
    "my_tuple=(1,2,3,4,5)\n",
    "print(\"length of tuple:\",len(my_tuple))"
   ]
  },
  {
   "cell_type": "markdown",
   "id": "fd04ee05-ed38-4347-bd8f-ee8e030cbf55",
   "metadata": {},
   "source": [
    "# Operation on Set"
   ]
  },
  {
   "cell_type": "markdown",
   "id": "8cead5ba-3ec1-4f4e-aff0-5a7fa9a5425c",
   "metadata": {},
   "source": [
    "Create a set"
   ]
  },
  {
   "cell_type": "code",
   "execution_count": 10,
   "id": "17998b27-7786-4fe2-bfd2-94efdfeaa005",
   "metadata": {},
   "outputs": [
    {
     "name": "stdout",
     "output_type": "stream",
     "text": [
      "Created set: {40, 10, 20, 30}\n"
     ]
    }
   ],
   "source": [
    "my_set={10,20,30,40}\n",
    "print(\"Created set:\",my_set)"
   ]
  },
  {
   "cell_type": "markdown",
   "id": "60e2e292-786e-456c-9217-41a85f64b135",
   "metadata": {},
   "source": [
    "Add element"
   ]
  },
  {
   "cell_type": "code",
   "execution_count": 11,
   "id": "920cd08a-1dd0-4677-9c7f-a9086591fc4f",
   "metadata": {},
   "outputs": [
    {
     "name": "stdout",
     "output_type": "stream",
     "text": [
      "After add: {40, 10, 50, 20, 30}\n"
     ]
    }
   ],
   "source": [
    "my_set={10,20,30,40}\n",
    "my_set.add(50)\n",
    "print(\"After add:\",my_set)"
   ]
  },
  {
   "cell_type": "markdown",
   "id": "0feaca87-4250-4ee1-a6c3-5f1cd63ff547",
   "metadata": {},
   "source": [
    "Remove element"
   ]
  },
  {
   "cell_type": "code",
   "execution_count": 12,
   "id": "35bb9dc6-feb7-4193-9200-e16da19cd6b0",
   "metadata": {},
   "outputs": [
    {
     "name": "stdout",
     "output_type": "stream",
     "text": [
      "After remove: {40, 10, 30}\n"
     ]
    }
   ],
   "source": [
    "my_set={10,20,30,40}\n",
    "my_set.remove(20)\n",
    "print(\"After remove:\",my_set)"
   ]
  },
  {
   "cell_type": "code",
   "execution_count": 13,
   "id": "a679dd3e-c282-469b-aeba-ce9f7eec4805",
   "metadata": {},
   "outputs": [
    {
     "name": "stdout",
     "output_type": "stream",
     "text": [
      "Union: {50, 20, 40, 10, 30}\n"
     ]
    }
   ],
   "source": [
    "set1 ={10,20,30}\n",
    "set2 ={30,40,50}\n",
    "print(\"Union:\",set1.union(set2))"
   ]
  },
  {
   "cell_type": "markdown",
   "id": "660d0df9-aa08-4269-9e73-5358fe0a29a9",
   "metadata": {},
   "source": [
    "Intersection"
   ]
  },
  {
   "cell_type": "code",
   "execution_count": 14,
   "id": "ac4ea017-b9b8-4cb1-bd03-212cda7b9961",
   "metadata": {},
   "outputs": [
    {
     "name": "stdout",
     "output_type": "stream",
     "text": [
      "intersection: {30}\n"
     ]
    }
   ],
   "source": [
    "set1 ={10,20,30}\n",
    "set2 ={30,40,50}\n",
    "print(\"intersection:\",set1.intersection(set2))"
   ]
  },
  {
   "cell_type": "markdown",
   "id": "b84590a1-2dab-4150-a412-fcf783bb7bb6",
   "metadata": {},
   "source": [
    "# Operation on dictionary"
   ]
  },
  {
   "cell_type": "markdown",
   "id": "09936a1e-f02b-4825-b639-6ec7a3581660",
   "metadata": {},
   "source": [
    "Create dictionary"
   ]
  },
  {
   "cell_type": "code",
   "execution_count": 15,
   "id": "0dafe9e4-7d88-4152-8ad1-181c50074759",
   "metadata": {},
   "outputs": [
    {
     "name": "stdout",
     "output_type": "stream",
     "text": [
      "Created Dictionary: {'name': 'Mumtaj zamzam', 'age': 19, 'dept': 'CSE'}\n"
     ]
    }
   ],
   "source": [
    "my_dict = {\"name\": \"Mumtaj zamzam\", \"age\": 19, \"dept\": \"CSE\"}\n",
    "print(\"Created Dictionary:\", my_dict)"
   ]
  },
  {
   "cell_type": "markdown",
   "id": "e48cd327-bda3-4b9b-9f89-f9de861c62e1",
   "metadata": {},
   "source": [
    "Access value"
   ]
  },
  {
   "cell_type": "code",
   "execution_count": 16,
   "id": "42797d7b-9ddc-4afd-a30d-033dbdff321d",
   "metadata": {},
   "outputs": [
    {
     "name": "stdout",
     "output_type": "stream",
     "text": [
      "Name: Mumatj zamzam\n"
     ]
    }
   ],
   "source": [
    "my_dict = {\"name\": \"Mumatj zamzam\", \"age\": 19, \"dept\": \"CSE\"}\n",
    "print(\"Name:\", my_dict[\"name\"])"
   ]
  },
  {
   "cell_type": "markdown",
   "id": "57d2fa09-b169-44c5-96fb-120d66e9ec31",
   "metadata": {},
   "source": [
    "Add new key-value"
   ]
  },
  {
   "cell_type": "code",
   "execution_count": 17,
   "id": "9255e543-dfe3-4d6d-83d4-a5716f97a05c",
   "metadata": {},
   "outputs": [
    {
     "name": "stdout",
     "output_type": "stream",
     "text": [
      "After Adding: {'name': 'Mumatj zamzam', 'age': 19, 'dept': 'CSE', 'college': 'PMIST University'}\n"
     ]
    }
   ],
   "source": [
    "my_dict = {\"name\": \"Mumatj zamzam\", \"age\": 19, \"dept\": \"CSE\"}\n",
    "my_dict[\"college\"] = \"PMIST University\"\n",
    "print(\"After Adding:\", my_dict)"
   ]
  },
  {
   "cell_type": "markdown",
   "id": "1da1e591-fa69-4674-9f29-f856cc33e576",
   "metadata": {},
   "source": [
    "Update value"
   ]
  },
  {
   "cell_type": "code",
   "execution_count": 18,
   "id": "1accb49b-293e-404b-927e-5b1c90bf0c01",
   "metadata": {},
   "outputs": [
    {
     "name": "stdout",
     "output_type": "stream",
     "text": [
      "After Update: {'name': 'Mumatj zamzam', 'age': 20, 'dept': 'CSE'}\n"
     ]
    }
   ],
   "source": [
    "my_dict = {\"name\": \"Mumatj zamzam\", \"age\": 19, \"dept\": \"CSE\"}\n",
    "my_dict[\"age\"] = 20\n",
    "print(\"After Update:\", my_dict)"
   ]
  },
  {
   "cell_type": "markdown",
   "id": "cf53ec61-f230-4ff8-b104-aa757b6db6bf",
   "metadata": {},
   "source": [
    "Delete a key"
   ]
  },
  {
   "cell_type": "code",
   "execution_count": 19,
   "id": "4ece3097-0a8a-4e64-8480-966ee0011231",
   "metadata": {},
   "outputs": [
    {
     "name": "stdout",
     "output_type": "stream",
     "text": [
      "After Delete: {'name': 'Mumatj zamzam', 'age': 19}\n"
     ]
    }
   ],
   "source": [
    "my_dict = {\"name\": \"Mumatj zamzam\", \"age\": 19, \"dept\": \"CSE\"}\n",
    "del my_dict[\"dept\"]\n",
    "print(\"After Delete:\", my_dict)"
   ]
  }
 ],
 "metadata": {
  "kernelspec": {
   "display_name": "Python 3 (ipykernel)",
   "language": "python",
   "name": "python3"
  },
  "language_info": {
   "codemirror_mode": {
    "name": "ipython",
    "version": 3
   },
   "file_extension": ".py",
   "mimetype": "text/x-python",
   "name": "python",
   "nbconvert_exporter": "python",
   "pygments_lexer": "ipython3",
   "version": "3.13.5"
  }
 },
 "nbformat": 4,
 "nbformat_minor": 5
}
